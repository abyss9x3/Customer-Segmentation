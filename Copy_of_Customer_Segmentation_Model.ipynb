{
  "nbformat": 4,
  "nbformat_minor": 0,
  "metadata": {
    "colab": {
      "name": "Copy of Customer Segmentation Model.ipynb",
      "provenance": [],
      "authorship_tag": "ABX9TyOgQ/qhSbF/vG9pE+u0/YqC",
      "include_colab_link": true
    },
    "kernelspec": {
      "name": "python3",
      "display_name": "Python 3"
    },
    "language_info": {
      "name": "python"
    }
  },
  "cells": [
    {
      "cell_type": "markdown",
      "metadata": {
        "id": "view-in-github",
        "colab_type": "text"
      },
      "source": [
        "<a href=\"https://colab.research.google.com/github/abyss9x3/Customer-Segmentation/blob/main/Copy_of_Customer_Segmentation_Model.ipynb\" target=\"_parent\"><img src=\"https://colab.research.google.com/assets/colab-badge.svg\" alt=\"Open In Colab\"/></a>"
      ]
    },
    {
      "cell_type": "markdown",
      "source": [
        "Importing Libraries\n"
      ],
      "metadata": {
        "id": "UOjDYbAQa6xa"
      }
    },
    {
      "cell_type": "code",
      "execution_count": null,
      "metadata": {
        "id": "LCUpMk1lav1E"
      },
      "outputs": [],
      "source": [
        "import numpy as np\n",
        "import pandas as pd\n",
        "import matplotlib.pyplot as plt\n",
        "import seaborn as sns\n",
        "\n",
        "from sklearn.cluster import KMeans"
      ]
    },
    {
      "cell_type": "code",
      "source": [
        "data = pd.read_csv(\"\")"
      ],
      "metadata": {
        "id": "WYJVFLWCbWFc"
      },
      "execution_count": null,
      "outputs": []
    },
    {
      "cell_type": "code",
      "source": [
        "data.head()"
      ],
      "metadata": {
        "id": "PooWb398bu7T"
      },
      "execution_count": null,
      "outputs": []
    },
    {
      "cell_type": "code",
      "source": [
        "data.shape() #rows ans column"
      ],
      "metadata": {
        "id": "wESRqkKRbpLe"
      },
      "execution_count": null,
      "outputs": []
    },
    {
      "cell_type": "code",
      "source": [
        "data.info() #data types"
      ],
      "metadata": {
        "id": "tjJrbDjEbsTr"
      },
      "execution_count": null,
      "outputs": []
    },
    {
      "cell_type": "code",
      "source": [
        "data.isnull().sum() # for each value count"
      ],
      "metadata": {
        "id": "oPhMJvcGbxKE"
      },
      "execution_count": null,
      "outputs": []
    },
    {
      "cell_type": "code",
      "source": [
        " x = data.iloc[:, [3,4]].values "
      ],
      "metadata": {
        "id": "INzfUjIucYFD"
      },
      "execution_count": null,
      "outputs": []
    },
    {
      "cell_type": "code",
      "source": [
        "wcss = []"
      ],
      "metadata": {
        "id": "IpsMqkAZdwSY"
      },
      "execution_count": null,
      "outputs": []
    },
    {
      "cell_type": "code",
      "source": [
        "for i in range(1, 11):\n",
        "  Kmeans = KMeans(n_clusters = i, init = \"k-means++\", n_init = 10, max_iter=300, random_state = 42)\n",
        "  kmeans.fit(x)\n",
        "\n",
        "  wcss.append(kmeans.inertia_)"
      ],
      "metadata": {
        "id": "JbznRu5mdx_6"
      },
      "execution_count": null,
      "outputs": []
    },
    {
      "cell_type": "code",
      "source": [
        "wcss"
      ],
      "metadata": {
        "id": "xpRVwNpcfPgr"
      },
      "execution_count": null,
      "outputs": []
    },
    {
      "cell_type": "code",
      "source": [
        "#ploting elbow graph\n",
        "\n",
        "plt.plot(range(1, 11), wcss)\n",
        "plt.title(\"The Elbow Point Graph\")\n",
        "plt.xlabel('Number of clusters')\n",
        "plt.ylabel('WCSS')\n",
        "plt.show()"
      ],
      "metadata": {
        "id": "6vNCfLAOfSK4"
      },
      "execution_count": null,
      "outputs": []
    },
    {
      "cell_type": "markdown",
      "source": [
        "From the above graph, we can take the optimal number of k = 5, if not then k = 6 then 7."
      ],
      "metadata": {
        "id": "VQJJkWZkgsAE"
      }
    },
    {
      "cell_type": "code",
      "source": [
        "#training\n",
        "\n",
        "kmeans = Kmeans(n_clustering = 5, init = \"k-means++\", random_state = 42)\n",
        "\n",
        "y = kmeans.fit_predict(x)\n",
        "\n",
        "#for each x we make a cluster!\n",
        "\n",
        "y"
      ],
      "metadata": {
        "id": "AOnK04VRgQOF"
      },
      "execution_count": null,
      "outputs": []
    },
    {
      "cell_type": "markdown",
      "source": [
        "For visualization\n"
      ],
      "metadata": {
        "id": "mZ80D8AViB1G"
      }
    },
    {
      "cell_type": "code",
      "source": [
        "plt.figure(figsize = (10, 8))\n",
        "\n",
        "plt.scatter(x[y = 0, 0], x[y == 0, 1], s= 50, c = 'green', label = 'Cluster 1')\n",
        "plt.scatter(x[y = 1, 0], x[y == 1, 1], s= 50, c = 'green', label = 'Cluster 2')\n",
        "plt.scatter(x[y = 2, 0], x[y == 2, 1], s= 50, c = 'green', label = 'Cluster 3')\n",
        "plt.scatter(x[y = 3, 0], x[y == 3, 1], s= 50, c = 'green', label = 'Cluster 4')\n",
        "plt.scatter(x[y = 4, 0], x[y == 4, 1], s= 50, c = 'green', label = 'Cluster 5')\n",
        "\n",
        "#Plot the centroids, in x we hav 2 value points\n",
        "plt.scatter(kmeans.cluster_centers_[:, 0], kmeans.cluster_centers_[:, 1], s = 100, c = 'cyan', label = 'centroids')\n",
        "\n",
        "plt.title(\"Customer's Group\")\n",
        "plt.xlabel('Annual Income')\n",
        "plt.ylabel('Spending Score')\n",
        "plt.show()\n"
      ],
      "metadata": {
        "id": "ZVmdFSbBiC3b"
      },
      "execution_count": null,
      "outputs": []
    },
    {
      "cell_type": "code",
      "source": [
        "#label all customer\n",
        "\n",
        "#write conclusion in your own words.\n",
        "\n",
        "#as less amount of data svm suits best to model"
      ],
      "metadata": {
        "id": "31jmSdzAnH3L"
      },
      "execution_count": null,
      "outputs": []
    },
    {
      "cell_type": "code",
      "source": [
        "kmeans.labels_\n",
        "#simply i can concate this thing with original data frame"
      ],
      "metadata": {
        "id": "KpXVAtiHn7Nz"
      },
      "execution_count": null,
      "outputs": []
    },
    {
      "cell_type": "code",
      "source": [
        "#creating a target column \"cluster\" forstoring the cluster segment\n",
        "cluster df = pd.concat([data,pd.DataFrame({'Cluster' : kmeans.labels_})], axis = 1)\n",
        "cluster_df"
      ],
      "metadata": {
        "id": "EyVoPuiFoFqo"
      },
      "execution_count": null,
      "outputs": []
    },
    {
      "cell_type": "code",
      "source": [
        "#Now it became labelled data, now it can be handled"
      ],
      "metadata": {
        "id": "8rVHFwYjohfn"
      },
      "execution_count": null,
      "outputs": []
    }
  ]
}